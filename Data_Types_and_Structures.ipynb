{
  "nbformat": 4,
  "nbformat_minor": 0,
  "metadata": {
    "colab": {
      "provenance": [],
      "collapsed_sections": [
        "4YYt7ybE0lkW",
        "pdfG8G6F1qKV",
        "Op0-P2Q23HJL",
        "7EGiEhlz4a9f",
        "4ZVz7zjR5DJl",
        "RKrj_nXW5_Md",
        "W1noctJE7aIT",
        "rkTYXomA8IoF",
        "dlNCHdMk9enq",
        "vdJ8HI_69qKL",
        "YePhTM5Y-dVV",
        "peUqQTT1-hEO",
        "wgqv02N__4qo",
        "CN6Cb52wASsg",
        "Ze6e9REnAn83",
        "IrBrfckKBLxX",
        "ytpfpvXVKN0b",
        "D9jMvxIQKkfQ",
        "qQlQvpuNKuN7",
        "k8UUOFr8MJfj",
        "w9t_OC1MNEPS",
        "04DdCzkMNXde",
        "ECX7EbleNwOS",
        "KyJpb5gnOHUS",
        "X0KKtVpCOT7a",
        "nTcGNP1RO2nY",
        "vnmNt-6rPIYG",
        "JZBjlh4qPZ2i",
        "82nhvbVzPnlC",
        "RWyo0pjRP1Ev",
        "ooc1a8bwQSk6",
        "_LE9cxjLQjjy",
        "yVc4KN6pQuYg",
        "Zk0m0BcSQ64V",
        "GIa9YN8lRYtv",
        "WrFrJkAVR7z-",
        "nnfmOvfiSAGX",
        "FeqxztWZSYr8",
        "yZxPaJJKSjiG",
        "paoygzQAS2gz",
        "4bpU7IPSTGmO",
        "n9zdEWv4TT_F",
        "b40VAAyoTki0",
        "kqv8OSHuTut6"
      ]
    },
    "kernelspec": {
      "name": "python3",
      "display_name": "Python 3"
    },
    "language_info": {
      "name": "python"
    }
  },
  "cells": [
    {
      "cell_type": "markdown",
      "source": [
        "#Data Types and Structures"
      ],
      "metadata": {
        "id": "eH7RVnr60aHg"
      }
    },
    {
      "cell_type": "markdown",
      "source": [
        "#Q1. What are data structures, and why are they important?"
      ],
      "metadata": {
        "id": "4YYt7ybE0lkW"
      }
    },
    {
      "cell_type": "markdown",
      "source": [
        "-> Data Structures are the way of organizing and storing data so that it can be accessed and manipulated efficiently. Data structures are important because-\n",
        "\n",
        "1. Makes code efficient\n",
        "2. Better memory management\n",
        "3. Enable code reusability\n",
        "4. Make operations on data easier"
      ],
      "metadata": {
        "id": "FvZqzY-k0qdQ"
      }
    },
    {
      "cell_type": "markdown",
      "source": [
        "#  Q2. Explain the difference between mutable and immutable data types with examples"
      ],
      "metadata": {
        "id": "pdfG8G6F1qKV"
      }
    },
    {
      "cell_type": "markdown",
      "source": [
        "-> Mutable data types are the data types whose value can be changed after their creation. For example- List data type\n",
        "In list data type, value of any object can be changed.\n",
        "lis = [1,2,3,4]\n",
        "l[1]=5 -> Value of l[1] is changed.\n",
        "\n",
        "Immutable data types are the data types whose value cannot be changed after their creation. For example- String, tuple data types\n",
        "\n",
        "t=(1,2,3,4)\n",
        "t[2]=5 -> error - tuple does not support item assignment. Hence, value of any object in strings and tuples cannot be changed."
      ],
      "metadata": {
        "id": "cix6Zr-o1rsi"
      }
    },
    {
      "cell_type": "markdown",
      "source": [
        "# Q3. What are the main differences between lists and tuples in Python?"
      ],
      "metadata": {
        "id": "Op0-P2Q23HJL"
      }
    },
    {
      "cell_type": "markdown",
      "source": [
        "-> 1. Lists are mutable that is values of any object of list can be changed whereas Tuples are immutable that is values of any object cannot be changed.\n",
        "   \n",
        "   2. List once defined can be modified whereas tuples once defined is fixed that is cannot be modified throughout the code.\n",
        "\n",
        "   3. Lists are ordered collection of elements of any type whereas tuples are ordered collection of fixed number of elements of any type."
      ],
      "metadata": {
        "id": "9KWauSZu3POV"
      }
    },
    {
      "cell_type": "markdown",
      "source": [
        "# Q4. Describe how dictionaries store data"
      ],
      "metadata": {
        "id": "7EGiEhlz4a9f"
      }
    },
    {
      "cell_type": "markdown",
      "source": [
        "-> Dictionaries store data in form of key-value pairs meaning each piece of information is associated with a unique identifier called a \"key\" which allows for quick retrieval of the corresponding \"value\" associated with that key.\n",
        "For example- my_dict{\"Data Course\": \"Data Analytics\", \"Duration\": 30}\n",
        "Here, Key is Data Course whose value is Data Analytics. Similarly, Duration is another key whose value is 30."
      ],
      "metadata": {
        "id": "NWslYtdy4b7U"
      }
    },
    {
      "cell_type": "markdown",
      "source": [
        "# Q5. Why might you use a set instead of a list in Python?"
      ],
      "metadata": {
        "id": "4ZVz7zjR5DJl"
      }
    },
    {
      "cell_type": "markdown",
      "source": [
        "-> We might choose to use a set instead of a list in Python for several reasons:\n",
        "Uniqueness:\n",
        "1. Removing Duplicates- Sets only store unique values, eliminating duplicates from a collection of data\n",
        "2. Membership testing- Checking if an element exists in a set is significantly faster than checking in a list, especially for large datasets. This is because sets use hash tables.\n",
        "3. For doing set operations on data such as Union, Intersection, Difference and Assymetric Difference."
      ],
      "metadata": {
        "id": "HS94A93j5NV_"
      }
    },
    {
      "cell_type": "markdown",
      "source": [
        "# Q6. What is a string in Python, and how is it different from a list?"
      ],
      "metadata": {
        "id": "RKrj_nXW5_Md"
      }
    },
    {
      "cell_type": "markdown",
      "source": [
        "-> String is a sequence of characters whereas list is collection of ordered elements of any type.\n",
        "It is different from list because of following:-\n",
        "\n",
        "1. It's object's values cannot be changed that is Strings are immutable whereas Lists are mutable.\n",
        "\n",
        "2. String only contain characters whereas list contain data of any type.\n",
        "\n",
        "3. Strings stored in numerical value in ASCII representation or in unicode representation."
      ],
      "metadata": {
        "id": "qXBnaTNA6F3X"
      }
    },
    {
      "cell_type": "markdown",
      "source": [
        "# Q7. How do tuples ensure data integrity in Python?"
      ],
      "metadata": {
        "id": "W1noctJE7aIT"
      }
    },
    {
      "cell_type": "markdown",
      "source": [
        "-> Tuples once defined cannot be changed throughout the entire code. Nothing can modify tuple throught the code. For example, Aadhaar ID and Employee ID once generated cannot be changed for entire life. Thus, Tuples ensure data integrity in code."
      ],
      "metadata": {
        "id": "OHlg7vh07fAs"
      }
    },
    {
      "cell_type": "markdown",
      "source": [
        "# Q8. What is a hash table, and how does it relate to dictionaries in Python?"
      ],
      "metadata": {
        "id": "rkTYXomA8IoF"
      }
    },
    {
      "cell_type": "markdown",
      "source": [
        "-> Hash table is an internal data structure which stores indices of data structures such as string, list and tuple using hash function in key-value pairs that is key as an index and at that index value is value of that corresponding key.\n",
        "\n",
        "Dictionaries are related to it because dictionaries are also stored in key-value pairs using hash tables as hash table stores."
      ],
      "metadata": {
        "id": "PrYXgI6u8Of6"
      }
    },
    {
      "cell_type": "markdown",
      "source": [
        "# Q9. Can lists contain different data types in Python?"
      ],
      "metadata": {
        "id": "dlNCHdMk9enq"
      }
    },
    {
      "cell_type": "markdown",
      "source": [
        "-> Yes, Lists can contain different data types in Python"
      ],
      "metadata": {
        "id": "aM7XplZg9i8z"
      }
    },
    {
      "cell_type": "markdown",
      "source": [
        "# Q10. Explain why strings are immutable in Python."
      ],
      "metadata": {
        "id": "vdJ8HI_69qKL"
      }
    },
    {
      "cell_type": "markdown",
      "source": [
        "-> Strings are immutable because\n",
        "\n",
        "Strings are designed in Python for:\n",
        "\n",
        "Performance: Immutable objects are generally faster to access than mutable objects. This is because the interpreter doesn't need to worry about the object changing unexpectedly.\n",
        "\n",
        "Hashing:\n",
        "Immutable objects can be easily and efficiently hashed, making them suitable as keys in dictionaries.\n",
        "\n",
        "Security:\n",
        "Immutable objects are inherently more secure because their values cannot be altered, preventing unintended modifications.\n",
        "\n",
        "Sharing:\n",
        "Immutable objects can be safely shared across different parts of a program without the risk of data corruption."
      ],
      "metadata": {
        "id": "494NbNGI9vec"
      }
    },
    {
      "cell_type": "markdown",
      "source": [
        "# Q11. What advantages do dictionaries offer over lists for certain tasks"
      ],
      "metadata": {
        "id": "YePhTM5Y-dVV"
      }
    },
    {
      "cell_type": "markdown",
      "source": [
        "-> Dictionaries offer several advantages over lists for certain tasks, including:\n",
        "\n",
        "Fast lookups: Dictionaries use a hash table to store key-value pairs, which makes them ideal for tasks that require frequent lookups or searches.\n",
        "Memory efficiency: Dictionaries only store the key-value pairs you need, so they can store large amounts of data without taking up too much memory.\n",
        "\n",
        "Flexibility: Dictionaries can store any type of data as both the key and the value.\n",
        "\n",
        "Speed: Dictionaries are consistently faster than lists. For example, a dictionary is 89.4 times faster than a list for a list size of 10,000 elements, and 11,603 times faster for a list size of 990,000 elements.\n",
        "Preferred for large amounts of data: Dictionaries are preferred when working with large amounts of data.\n",
        "\n",
        "More useful than lists: Dictionaries can be more useful than lists for tasks like storing a list of friend's cell phone numbers. Once the list becomes long, it can be time consuming to search for a specific phone number."
      ],
      "metadata": {
        "id": "bnhktU4J-s84"
      }
    },
    {
      "cell_type": "markdown",
      "source": [
        "# Q12. Describe a scenario where using a tuple would be preferable over a list\n"
      ],
      "metadata": {
        "id": "peUqQTT1-hEO"
      }
    },
    {
      "cell_type": "markdown",
      "source": [
        "-> Tupes are preferred over list when we do not want to change data to be contained by tuple throughout the code. It is used to maintain data integrity. Tuples are preferred for fixed data elements and require no alteration throughout the code."
      ],
      "metadata": {
        "id": "T-4gI_No_O7Z"
      }
    },
    {
      "cell_type": "markdown",
      "source": [
        "# Q13. How do sets handle duplicate values in Python?"
      ],
      "metadata": {
        "id": "wgqv02N__4qo"
      }
    },
    {
      "cell_type": "markdown",
      "source": [
        "-> Sets collect only unique elements therefore eliminates duplicate element.Sets in Python automatically handle duplicate values by simply ignoring them. When you add a duplicate value to a set, it doesn't raise an error, but it also doesn't add the duplicate value to the set."
      ],
      "metadata": {
        "id": "sPHVx9JZ_-e2"
      }
    },
    {
      "cell_type": "markdown",
      "source": [
        "# Q14. How does the “in” keyword work differently for lists and dictionaries?"
      ],
      "metadata": {
        "id": "CN6Cb52wASsg"
      }
    },
    {
      "cell_type": "markdown",
      "source": [
        "-> When using the \"in\" keyword, it checks for membership within a list by searching for the exact value, while in a dictionary, it checks if a given value exists as a key, meaning it only looks for the key and not the associated value; essentially, \"in\" looks for elements in a list and keys in a dictionary."
      ],
      "metadata": {
        "id": "pRaWHfXrAY8-"
      }
    },
    {
      "cell_type": "markdown",
      "source": [
        "# Q15. Can you modify the elements of a tuple? Explain why or why not"
      ],
      "metadata": {
        "id": "Ze6e9REnAn83"
      }
    },
    {
      "cell_type": "markdown",
      "source": [
        "-> Tuples are immutable that's why we cannot modify elements of a tuple. Tuples once defined are fixed throughout the code. Any internal code implementation cannot change tuple."
      ],
      "metadata": {
        "id": "DTdY0yrjAtIS"
      }
    },
    {
      "cell_type": "markdown",
      "source": [
        "# Q16. What is a nested dictionary, and give an example of its use case?"
      ],
      "metadata": {
        "id": "IrBrfckKBLxX"
      }
    },
    {
      "cell_type": "markdown",
      "source": [
        "-> A nested dictionary is a dictionary that contains other dictionaries, and is a useful way to represent data with multiple layers of organization. Here are an example of use cases for nested dictionaries:\n",
        "Employee records: Organize employees by department, with each employee's details in a nested dictionary."
      ],
      "metadata": {
        "id": "m-rpc_y1JWr_"
      }
    },
    {
      "cell_type": "markdown",
      "source": [
        "# Q17. Describe the time complexity of accessing elements in a dictionary\n"
      ],
      "metadata": {
        "id": "ytpfpvXVKN0b"
      }
    },
    {
      "cell_type": "markdown",
      "source": [
        "-> The time complexity of accessing an element in a dictionary is O(1), which means it takes a constant amount of time to search for a value in a dictionary, regardless of the size of the dictionary. The space complexity is also O(1) because no additional memory is used to access the element."
      ],
      "metadata": {
        "id": "R_f5ltiEKWUp"
      }
    },
    {
      "cell_type": "markdown",
      "source": [
        "# Q18. In what situations are lists preferred over dictionaries"
      ],
      "metadata": {
        "id": "D9jMvxIQKkfQ"
      }
    },
    {
      "cell_type": "markdown",
      "source": [
        "-> Lists are preferred over dictionaries when the order of elements is crucial, when you need to perform frequent operations like appending or extending elements, or when you need to access elements sequentially based on their position within the collection, as lists maintain the insertion order of their elements while dictionaries prioritize fast key-based lookups."
      ],
      "metadata": {
        "id": "zGRPaNA2KmVT"
      }
    },
    {
      "cell_type": "markdown",
      "source": [
        "# Q19. Why are dictionaries considered unordered, and how does that affect data retrieval?"
      ],
      "metadata": {
        "id": "qQlQvpuNKuN7"
      }
    },
    {
      "cell_type": "markdown",
      "source": [
        "-> Dictionaries store data in key-value pairs and order of elements does not matter to dictionaries. It prioritize elements in searching for of an element based on key and based upon this dictionaries order elements for faster look up while searching for an element based on key if key is far from the beginning of dictionary's first key then it would take long time to search for that corresponding key in dictionary thus, it affects data retrieval in dictionaries."
      ],
      "metadata": {
        "id": "V-XUdEpGK0a6"
      }
    },
    {
      "cell_type": "markdown",
      "source": [
        "# Q20. Explain the difference between a list and a dictionary in terms of data retrieval"
      ],
      "metadata": {
        "id": "k8UUOFr8MJfj"
      }
    },
    {
      "cell_type": "markdown",
      "source": [
        "-> List retrieves data using its index position (numerical order), while a dictionary retrieves data using a unique key, allowing for direct access to a specific value without needing to iterate through the entire collection; essentially, lists are ordered sequences, whereas dictionaries are key-value pairs, making dictionary lookups significantly faster for specific data retrieval based on a known key."
      ],
      "metadata": {
        "id": "z-o62B7KMPjM"
      }
    },
    {
      "cell_type": "markdown",
      "source": [
        "# Practical Questions"
      ],
      "metadata": {
        "id": "oZyb3PHlNBAd"
      }
    },
    {
      "cell_type": "markdown",
      "source": [
        "# Q1. Write a code to create a string with your name and print it."
      ],
      "metadata": {
        "id": "w9t_OC1MNEPS"
      }
    },
    {
      "cell_type": "code",
      "source": [
        "\"\"\"s=\"Chetan Das\"\n",
        "print(s)\"\"\""
      ],
      "metadata": {
        "colab": {
          "base_uri": "https://localhost:8080/"
        },
        "id": "CLiiWoPyNLhQ",
        "outputId": "a6fa0f1d-33b5-422f-e032-e6b6d97ab6f2"
      },
      "execution_count": 1,
      "outputs": [
        {
          "output_type": "stream",
          "name": "stdout",
          "text": [
            "Chetan Das\n"
          ]
        }
      ]
    },
    {
      "cell_type": "markdown",
      "source": [
        "# Q2. Write a code to find the length of the string \"Hello World\"."
      ],
      "metadata": {
        "id": "04DdCzkMNXde"
      }
    },
    {
      "cell_type": "code",
      "source": [
        "\"\"\" s=\"Hello World\"\n",
        "print(len(s)) \"\"\""
      ],
      "metadata": {
        "colab": {
          "base_uri": "https://localhost:8080/"
        },
        "id": "PxRP7l3iNcoN",
        "outputId": "f32adddc-c1d4-4e5c-bd83-7aa9696f81b5"
      },
      "execution_count": 2,
      "outputs": [
        {
          "output_type": "stream",
          "name": "stdout",
          "text": [
            "11\n"
          ]
        }
      ]
    },
    {
      "cell_type": "markdown",
      "source": [
        "# Q3. Write a code to slice the first 3 characters from the string \"Python Programming\"."
      ],
      "metadata": {
        "id": "ECX7EbleNwOS"
      }
    },
    {
      "cell_type": "code",
      "source": [
        "\"\"\" s=\"Python Programming\"\n",
        "print(s[0:3]) \"\"\""
      ],
      "metadata": {
        "colab": {
          "base_uri": "https://localhost:8080/"
        },
        "id": "haPzJ2bdNxsZ",
        "outputId": "bbe6eeae-70f3-4001-8c91-bcf6ac2ea1d7"
      },
      "execution_count": 3,
      "outputs": [
        {
          "output_type": "stream",
          "name": "stdout",
          "text": [
            "Pyt\n"
          ]
        }
      ]
    },
    {
      "cell_type": "markdown",
      "source": [
        "# Q4. Write a code to convert the string \"hello\" to uppercase"
      ],
      "metadata": {
        "id": "KyJpb5gnOHUS"
      }
    },
    {
      "cell_type": "code",
      "source": [
        "\"\"\" s=\"hello\"\n",
        "print(s.upper()) \"\"\""
      ],
      "metadata": {
        "colab": {
          "base_uri": "https://localhost:8080/",
          "height": 35
        },
        "id": "YvqxYM7NOMLI",
        "outputId": "d56abdda-c00a-407a-8894-cc8d0e7f2714"
      },
      "execution_count": 6,
      "outputs": [
        {
          "output_type": "execute_result",
          "data": {
            "text/plain": [
              "' s=\"hello\"\\nprint(s.upper()) '"
            ],
            "application/vnd.google.colaboratory.intrinsic+json": {
              "type": "string"
            }
          },
          "metadata": {},
          "execution_count": 6
        }
      ]
    },
    {
      "cell_type": "markdown",
      "source": [
        "# Q5. Write a code to replace the word \"apple\" with \"orange\" in the string \"I like apple\""
      ],
      "metadata": {
        "id": "X0KKtVpCOT7a"
      }
    },
    {
      "cell_type": "code",
      "source": [
        "\"\"\" s=\"I like apple\"\n",
        "s.replace(\"apple\",\"orange\") \"\"\""
      ],
      "metadata": {
        "colab": {
          "base_uri": "https://localhost:8080/",
          "height": 35
        },
        "id": "y8B3jiSrOY-1",
        "outputId": "c2fabd10-4cba-4543-bb2f-9f2d543805d9"
      },
      "execution_count": 5,
      "outputs": [
        {
          "output_type": "execute_result",
          "data": {
            "text/plain": [
              "'I like orange'"
            ],
            "application/vnd.google.colaboratory.intrinsic+json": {
              "type": "string"
            }
          },
          "metadata": {},
          "execution_count": 5
        }
      ]
    },
    {
      "cell_type": "markdown",
      "source": [
        "# Q6. Write a code to create a list with numbers 1 to 5 and print it"
      ],
      "metadata": {
        "id": "nTcGNP1RO2nY"
      }
    },
    {
      "cell_type": "code",
      "source": [
        "\"\"\" l=[1,2,3,4,5]\n",
        "l \"\"\""
      ],
      "metadata": {
        "colab": {
          "base_uri": "https://localhost:8080/"
        },
        "id": "mgOzKRkgO9bE",
        "outputId": "ee6c56f9-330b-4621-e67a-6a6dda27325b"
      },
      "execution_count": 7,
      "outputs": [
        {
          "output_type": "execute_result",
          "data": {
            "text/plain": [
              "[1, 2, 3, 4, 5]"
            ]
          },
          "metadata": {},
          "execution_count": 7
        }
      ]
    },
    {
      "cell_type": "markdown",
      "source": [
        "# Q7. Write a code to append the number 10 to the list [1, 2, 3, 4]"
      ],
      "metadata": {
        "id": "vnmNt-6rPIYG"
      }
    },
    {
      "cell_type": "code",
      "source": [
        "\"\"\" l=[1,2,3,4]\n",
        "l.append(10)\n",
        "l \"\"\""
      ],
      "metadata": {
        "colab": {
          "base_uri": "https://localhost:8080/"
        },
        "id": "JQ_9zm_WPNwn",
        "outputId": "bd64643b-fc39-405d-aa04-6de3c448dff0"
      },
      "execution_count": 9,
      "outputs": [
        {
          "output_type": "execute_result",
          "data": {
            "text/plain": [
              "[1, 2, 3, 4, 10]"
            ]
          },
          "metadata": {},
          "execution_count": 9
        }
      ]
    },
    {
      "cell_type": "markdown",
      "source": [
        "# Q8. Write a code to remove the number 3 from the list [1, 2, 3, 4, 5]"
      ],
      "metadata": {
        "id": "JZBjlh4qPZ2i"
      }
    },
    {
      "cell_type": "code",
      "source": [
        "\"\"\" l= [1,2,3,4,5]\n",
        "l.remove(3)\n",
        "l  \"\"\""
      ],
      "metadata": {
        "colab": {
          "base_uri": "https://localhost:8080/"
        },
        "id": "0ekn9bZOPeWa",
        "outputId": "8d90eca7-541a-4236-c6d1-7c598c8a3964"
      },
      "execution_count": 10,
      "outputs": [
        {
          "output_type": "execute_result",
          "data": {
            "text/plain": [
              "[1, 2, 4, 5]"
            ]
          },
          "metadata": {},
          "execution_count": 10
        }
      ]
    },
    {
      "cell_type": "markdown",
      "source": [
        "# Q9. Write a code to access the second element in the list ['a', 'b', 'c', 'd']"
      ],
      "metadata": {
        "id": "82nhvbVzPnlC"
      }
    },
    {
      "cell_type": "code",
      "source": [
        "\"\"\" l= ['a', 'b', 'c', 'd']\n",
        "l[1]  \"\"\""
      ],
      "metadata": {
        "colab": {
          "base_uri": "https://localhost:8080/",
          "height": 35
        },
        "id": "wnx9XA6QPswn",
        "outputId": "77e12483-42ac-42bd-b8e8-be2636ef2e1e"
      },
      "execution_count": 11,
      "outputs": [
        {
          "output_type": "execute_result",
          "data": {
            "text/plain": [
              "'b'"
            ],
            "application/vnd.google.colaboratory.intrinsic+json": {
              "type": "string"
            }
          },
          "metadata": {},
          "execution_count": 11
        }
      ]
    },
    {
      "cell_type": "markdown",
      "source": [
        "# Q10. Write a code to reverse the list [10, 20, 30, 40, 50]"
      ],
      "metadata": {
        "id": "RWyo0pjRP1Ev"
      }
    },
    {
      "cell_type": "code",
      "source": [
        "\"\"\" l= [10, 20, 30, 40, 50]\n",
        "print(l[::-1]) \"\"\""
      ],
      "metadata": {
        "colab": {
          "base_uri": "https://localhost:8080/"
        },
        "id": "hOj-OCGcP69a",
        "outputId": "bf625eff-ea08-45f6-c7ea-dcdb892cc03f"
      },
      "execution_count": 13,
      "outputs": [
        {
          "output_type": "stream",
          "name": "stdout",
          "text": [
            "[50, 40, 30, 20, 10]\n"
          ]
        }
      ]
    },
    {
      "cell_type": "markdown",
      "source": [
        "# Q11. Write a code to create a tuple with the elements 10, 20, 30 and print it."
      ],
      "metadata": {
        "id": "ooc1a8bwQSk6"
      }
    },
    {
      "cell_type": "code",
      "source": [
        "\"\"\" t=(10,20,30)\n",
        "t  \"\"\""
      ],
      "metadata": {
        "colab": {
          "base_uri": "https://localhost:8080/"
        },
        "id": "w9B7TzjMQXQ6",
        "outputId": "598c8c3d-b52f-4400-ab27-e5aaedc25169"
      },
      "execution_count": 14,
      "outputs": [
        {
          "output_type": "execute_result",
          "data": {
            "text/plain": [
              "(10, 20, 30)"
            ]
          },
          "metadata": {},
          "execution_count": 14
        }
      ]
    },
    {
      "cell_type": "markdown",
      "source": [
        "# Q12. Write a code to access the first element of the tuple ('apple', 'banana', 'cherry')"
      ],
      "metadata": {
        "id": "_LE9cxjLQjjy"
      }
    },
    {
      "cell_type": "code",
      "source": [
        "\"\"\" t= ('apple', 'banana', 'cherry')\n",
        "t[0]  \"\"\""
      ],
      "metadata": {
        "colab": {
          "base_uri": "https://localhost:8080/",
          "height": 35
        },
        "id": "HFoHOaWLQnoD",
        "outputId": "aed0a734-a252-4b44-c1fc-378df7e06b58"
      },
      "execution_count": 16,
      "outputs": [
        {
          "output_type": "execute_result",
          "data": {
            "text/plain": [
              "'apple'"
            ],
            "application/vnd.google.colaboratory.intrinsic+json": {
              "type": "string"
            }
          },
          "metadata": {},
          "execution_count": 16
        }
      ]
    },
    {
      "cell_type": "markdown",
      "source": [
        "# Q13. Write a code to count how many times the number 2 appears in the tuple (1, 2, 3, 2, 4, 2)"
      ],
      "metadata": {
        "id": "yVc4KN6pQuYg"
      }
    },
    {
      "cell_type": "code",
      "source": [
        "\"\"\" t=(1,2,3,2,4,2)\n",
        "t.count(2)    \"\"\""
      ],
      "metadata": {
        "colab": {
          "base_uri": "https://localhost:8080/"
        },
        "id": "Y828e_33Q82q",
        "outputId": "2c09d1fe-d9e6-46d7-fd99-a2778d3836e1"
      },
      "execution_count": 18,
      "outputs": [
        {
          "output_type": "execute_result",
          "data": {
            "text/plain": [
              "3"
            ]
          },
          "metadata": {},
          "execution_count": 18
        }
      ]
    },
    {
      "cell_type": "markdown",
      "source": [
        "# Q14. Write a code to find the index of the element \"cat\" in the tuple ('dog', 'cat', 'rabbit')"
      ],
      "metadata": {
        "id": "Zk0m0BcSQ64V"
      }
    },
    {
      "cell_type": "code",
      "source": [
        "\"\"\" t=('dog', 'cat', 'rabbit')\n",
        "t.index(\"cat\")  \"\"\""
      ],
      "metadata": {
        "colab": {
          "base_uri": "https://localhost:8080/"
        },
        "id": "FPwpANsvRMYg",
        "outputId": "c83b7a36-a1cf-496e-8db7-3c22a4b96c96"
      },
      "execution_count": 19,
      "outputs": [
        {
          "output_type": "execute_result",
          "data": {
            "text/plain": [
              "1"
            ]
          },
          "metadata": {},
          "execution_count": 19
        }
      ]
    },
    {
      "cell_type": "markdown",
      "source": [
        "# Q15. Write a code to check if the element \"banana\" is in the tuple ('apple', 'orange', 'banana')"
      ],
      "metadata": {
        "id": "GIa9YN8lRYtv"
      }
    },
    {
      "cell_type": "code",
      "source": [
        "\"\"\" t=('apple', 'orange', 'banana')\n",
        "\"banana\" in t \"\"\""
      ],
      "metadata": {
        "colab": {
          "base_uri": "https://localhost:8080/"
        },
        "id": "HuxuLYZBRdPV",
        "outputId": "637d126c-d8a6-42eb-fd67-098bc2f873c1"
      },
      "execution_count": 21,
      "outputs": [
        {
          "output_type": "execute_result",
          "data": {
            "text/plain": [
              "True"
            ]
          },
          "metadata": {},
          "execution_count": 21
        }
      ]
    },
    {
      "cell_type": "markdown",
      "source": [
        "# Q16. Write a code to create a set with the elements 1, 2, 3, 4, 5 and print it"
      ],
      "metadata": {
        "id": "WrFrJkAVR7z-"
      }
    },
    {
      "cell_type": "code",
      "source": [
        "\"\"\" s={1,2,3,4,5}\n",
        "s  \"\"\""
      ],
      "metadata": {
        "colab": {
          "base_uri": "https://localhost:8080/"
        },
        "id": "f5mWtgGSSB4i",
        "outputId": "ad40dc41-373e-44ce-e810-2b17efd86c60"
      },
      "execution_count": 22,
      "outputs": [
        {
          "output_type": "execute_result",
          "data": {
            "text/plain": [
              "{1, 2, 3, 4, 5}"
            ]
          },
          "metadata": {},
          "execution_count": 22
        }
      ]
    },
    {
      "cell_type": "markdown",
      "source": [
        "# Q17. Write a code to add the element 6 to the set {1, 2, 3, 4}."
      ],
      "metadata": {
        "id": "nnfmOvfiSAGX"
      }
    },
    {
      "cell_type": "code",
      "source": [
        "\"\"\" s={1,2,3,4}\n",
        "s.add(6)\n",
        "s   \"\"\""
      ],
      "metadata": {
        "colab": {
          "base_uri": "https://localhost:8080/"
        },
        "id": "NJz_YlxVR7gZ",
        "outputId": "2135031f-6ee5-4968-d1e8-f1bdae36b641"
      },
      "execution_count": 24,
      "outputs": [
        {
          "output_type": "execute_result",
          "data": {
            "text/plain": [
              "{1, 2, 3, 4, 6}"
            ]
          },
          "metadata": {},
          "execution_count": 24
        }
      ]
    },
    {
      "cell_type": "markdown",
      "source": [
        "# Q18. Write a code to create a tuple with the elements 10, 20, 30 and print it"
      ],
      "metadata": {
        "id": "FeqxztWZSYr8"
      }
    },
    {
      "cell_type": "code",
      "source": [
        "\"\"\" t=(10,20,30)\n",
        "t   \"\"\""
      ],
      "metadata": {
        "colab": {
          "base_uri": "https://localhost:8080/"
        },
        "id": "nlRqTkuRSdIz",
        "outputId": "339e38d3-d745-41e7-b0df-83781e97d1bc"
      },
      "execution_count": 25,
      "outputs": [
        {
          "output_type": "execute_result",
          "data": {
            "text/plain": [
              "(10, 20, 30)"
            ]
          },
          "metadata": {},
          "execution_count": 25
        }
      ]
    },
    {
      "cell_type": "markdown",
      "source": [
        "# Q19. Write a code to access the first element of the tuple ('apple', 'banana', 'cherry')"
      ],
      "metadata": {
        "id": "yZxPaJJKSjiG"
      }
    },
    {
      "cell_type": "code",
      "source": [
        "\"\"\" t=('apple', 'banana', 'cherry')\n",
        "t[0]  \"\"\""
      ],
      "metadata": {
        "colab": {
          "base_uri": "https://localhost:8080/",
          "height": 35
        },
        "id": "0llIK1WlSpK3",
        "outputId": "bdc5147f-4620-4901-a3b1-8f26af76699c"
      },
      "execution_count": 26,
      "outputs": [
        {
          "output_type": "execute_result",
          "data": {
            "text/plain": [
              "'apple'"
            ],
            "application/vnd.google.colaboratory.intrinsic+json": {
              "type": "string"
            }
          },
          "metadata": {},
          "execution_count": 26
        }
      ]
    },
    {
      "cell_type": "markdown",
      "source": [
        "# Q20. Write a code to count how many times the number 2 appears in the tuple (1, 2, 3, 2, 4, 2)"
      ],
      "metadata": {
        "id": "paoygzQAS2gz"
      }
    },
    {
      "cell_type": "code",
      "source": [
        "\"\"\" t=(1,2,3,2,4,2)\n",
        "t.count(2) \"\"\""
      ],
      "metadata": {
        "colab": {
          "base_uri": "https://localhost:8080/"
        },
        "id": "9D353RvPS75f",
        "outputId": "6ba4fa98-fbc9-48ae-c4c1-e94fa9e40233"
      },
      "execution_count": 28,
      "outputs": [
        {
          "output_type": "execute_result",
          "data": {
            "text/plain": [
              "3"
            ]
          },
          "metadata": {},
          "execution_count": 28
        }
      ]
    },
    {
      "cell_type": "markdown",
      "source": [
        "# Q21. Write a code to find the index of the element \"cat\" in the tuple ('dog', 'cat', 'rabbit')"
      ],
      "metadata": {
        "id": "4bpU7IPSTGmO"
      }
    },
    {
      "cell_type": "code",
      "source": [
        "\"\"\" t = ('dog', 'cat', 'rabbit')\n",
        "t.index(\"cat\")  \"\"\""
      ],
      "metadata": {
        "colab": {
          "base_uri": "https://localhost:8080/"
        },
        "id": "lissd7OoTGR0",
        "outputId": "19b9a48f-690a-4ca4-cae2-7ca413b0e743"
      },
      "execution_count": 29,
      "outputs": [
        {
          "output_type": "execute_result",
          "data": {
            "text/plain": [
              "1"
            ]
          },
          "metadata": {},
          "execution_count": 29
        }
      ]
    },
    {
      "cell_type": "markdown",
      "source": [
        "# Q22. Write a code to check if the element \"banana\" is in the tuple ('apple', 'orange', 'banana')."
      ],
      "metadata": {
        "id": "n9zdEWv4TT_F"
      }
    },
    {
      "cell_type": "code",
      "source": [
        "\"\"\" t=('apple', 'orange','banana')\n",
        "'banana' in t   \"\"\""
      ],
      "metadata": {
        "colab": {
          "base_uri": "https://localhost:8080/"
        },
        "id": "pBw_ANWvTYdB",
        "outputId": "6ea19a5e-11ed-4097-eb18-aefa89fefb8e"
      },
      "execution_count": 30,
      "outputs": [
        {
          "output_type": "execute_result",
          "data": {
            "text/plain": [
              "True"
            ]
          },
          "metadata": {},
          "execution_count": 30
        }
      ]
    },
    {
      "cell_type": "markdown",
      "source": [
        "# Q23. Write a code to create a set with the elements 1, 2, 3, 4, 5 and print it."
      ],
      "metadata": {
        "id": "b40VAAyoTki0"
      }
    },
    {
      "cell_type": "code",
      "source": [
        "\"\"\" s={1,2,3,4,5}\n",
        "s  \"\"\""
      ],
      "metadata": {
        "colab": {
          "base_uri": "https://localhost:8080/"
        },
        "id": "26yEyGfoToQb",
        "outputId": "7cbc70c3-7a3f-4ba5-e305-3ae518767847"
      },
      "execution_count": 31,
      "outputs": [
        {
          "output_type": "execute_result",
          "data": {
            "text/plain": [
              "{1, 2, 3, 4, 5}"
            ]
          },
          "metadata": {},
          "execution_count": 31
        }
      ]
    },
    {
      "cell_type": "markdown",
      "source": [
        "# Q24.Write a code to add the element 6 to the set {1, 2, 3, 4}"
      ],
      "metadata": {
        "id": "kqv8OSHuTut6"
      }
    },
    {
      "cell_type": "code",
      "source": [
        "\"\"\" s={1,2,3,4}\n",
        "s.add(6)\n",
        "s  \"\"\""
      ],
      "metadata": {
        "colab": {
          "base_uri": "https://localhost:8080/"
        },
        "id": "9Zv34hdjT0Ip",
        "outputId": "6cfdc695-2aa5-4217-c75b-73e6a41eced4"
      },
      "execution_count": 32,
      "outputs": [
        {
          "output_type": "execute_result",
          "data": {
            "text/plain": [
              "{1, 2, 3, 4, 6}"
            ]
          },
          "metadata": {},
          "execution_count": 32
        }
      ]
    }
  ]
}